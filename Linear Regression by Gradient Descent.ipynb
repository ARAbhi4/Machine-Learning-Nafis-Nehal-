{
 "cells": [
  {
   "cell_type": "markdown",
   "metadata": {},
   "source": [
    "Created by Shadow\n",
    "\n",
    "Date:29/02/2020\n",
    "\n",
    "Cost Function = hw(x) = w0 + w1x\n",
    "\n",
    "Gradient Descent = J(w0,w1)=1/2m∑(m,i=1)(hw(x(i))−(y(i)))2\n",
    "\n",
    "wj = wj - α*dJ(w0,w1)/dwj\n",
    "\n",
    "when J = 0,\n",
    "    wj = wj - α1/m∑(m,i=1)(hw(x(i))−(y(i)))\n",
    "\n",
    "when J = 1,\n",
    "    wj = wj - α1/m∑(m,i=1)(hw(x(i))−(y(i))).x(i)\n",
    "    \n",
    "let, \n",
    "    w0 = 0.0\n",
    "    w1 = 0.0\n",
    "So our equation is,\n",
    "                    hw = 0 + 0*x\n",
    "                    "
   ]
  },
  {
   "cell_type": "code",
   "execution_count": 3,
   "metadata": {},
   "outputs": [
    {
     "name": "stdout",
     "output_type": "stream",
     "text": [
      "Predicted Output: [0, 0, 0, 0, 0]\n",
      "Error: [-1, -3, -3, -2, -5]\n",
      "Error total: -14\n",
      "Error Square: [1, 9, 9, 4, 25]\n",
      "Error Square total: 48\n",
      "Cost: 4.800000000000001\n",
      "w0: 0.028\n",
      "w1: 0.42\n",
      "Predicted Output: [0.448, 0.868, 1.708, 1.288, 2.128]\n",
      "Error: [-0.552, -2.132, -1.292, -0.712, -2.872]\n",
      "Error total: -7.56\n",
      "Error Square: [0.30470400000000003, 4.545424000000001, 1.669264, 0.506944, 8.248384]\n",
      "Error Square total: 15.27472\n",
      "Cost: 1.5274720000000002\n",
      "w0: 0.04312\n",
      "w1: 0.8735999999999999\n",
      "Predicted Output: [0.91672, 1.79032, 3.5375199999999998, 2.66392, 4.4111199999999995]\n",
      "Error: [-0.08328000000000002, -1.20968, 0.5375199999999998, 0.6639200000000001, -0.5888800000000005]\n",
      "Error total: -0.6804000000000008\n",
      "Error Square: [0.006935558400000003, 1.4633257024000002, 0.28892775039999974, 0.44078976640000006, 0.3467796544000006]\n",
      "Error Square total: 2.5467584320000003\n",
      "Cost: 0.25467584320000003\n",
      "w0: 0.0444808\n",
      "w1: 0.934836\n",
      "Predicted Output: [0.9793168, 1.9141528, 3.7838248, 2.8489888000000003, 4.718660799999999]\n",
      "Error: [-0.020683200000000013, -1.0858472, 0.7838248000000001, 0.8489888000000003, -0.28133920000000057]\n",
      "Error total: 0.24494399999999983\n",
      "Error Square: [0.0004277947622400005, 1.1790641417478398, 0.6143813170950402, 0.7207819825254406, 0.07915174545664032]\n",
      "Error Square total: 2.593806981587201\n",
      "Cost: 0.2593806981587201\n",
      "w0: 0.043990912\n",
      "w1: 0.90544272\n"
     ]
    }
   ],
   "source": [
    "\n",
    "x = [1,2,4,3,5]\n",
    "y = [1,3,3,2,5]\n",
    "w0 = 0\n",
    "w1 = 0\n",
    "\n",
    "le = len(x)\n",
    "alpha = 0.01\n",
    "jw0w1 = 0\n",
    "dd = 0\n",
    "u=0\n",
    "tt = []\n",
    "while(True):\n",
    "    hw = []\n",
    "    hwt = []\n",
    "    hwt2 = []\n",
    "    total = 0\n",
    "    total2 = 0\n",
    " \n",
    "    for i in x:\n",
    "        dd= dd+i\n",
    "        tm = w0+w1*i\n",
    "        hw.append(tm)    \n",
    "    print(f'Predicted Output: {hw}')    \n",
    "    for i in range(len(y)):\n",
    "        hwt.append(hw[i]-y[i])    \n",
    "    print(f'Error: {hwt}')\n",
    "    \n",
    "    for i in hwt:\n",
    "        total = total + i\n",
    "    print(f'Error total: {total}')\n",
    "\n",
    "    for i in range(len(y)):\n",
    "        hwt2.append((hw[i]-y[i])**2)    \n",
    "    print(f'Error Square: {hwt2}')\n",
    "\n",
    "    for i in hwt2:\n",
    "        total2 = total2 + i\n",
    "    print(f'Error Square total: {total2}')   \n",
    "\n",
    "    jw0w1 = (1/(2*le))*total2\n",
    "    print(f'Cost: {jw0w1}')  \n",
    "\n",
    "    w0 = w0 - alpha*(1/le)*total\n",
    "    w1 = w1 - alpha*(1/le)*total*dd\n",
    "    print(f'w0: {w0}')\n",
    "    print(f'w1: {w1}')\n",
    "    \n",
    "    tt.append(float(str(jw0w1)[:4]))\n",
    "    \n",
    "    if(u>=1):\n",
    "        if(tt[u-1] == tt[u]):\n",
    "            break\n",
    "        \n",
    "    u = u+1\n"
   ]
  },
  {
   "cell_type": "code",
   "execution_count": 5,
   "metadata": {},
   "outputs": [
    {
     "name": "stdout",
     "output_type": "stream",
     "text": [
      "Enter your Value of x: 5\n",
      "Prediction: 4.571204512\n"
     ]
    }
   ],
   "source": [
    "xx = int(input(\"Enter your Value of x: \"))\n",
    "hwx = w0+w1*xx\n",
    "\n",
    "print(f'Prediction: {hwx}')"
   ]
  }
 ],
 "metadata": {
  "kernelspec": {
   "display_name": "Python 3",
   "language": "python",
   "name": "python3"
  }
 },
 "nbformat": 4,
 "nbformat_minor": 4
}
